{
 "cells": [
  {
   "cell_type": "code",
   "execution_count": 1,
   "metadata": {
    "collapsed": false
   },
   "outputs": [],
   "source": [
    "import scipy.io\n",
    "import numpy.matlib\n",
    "import numpy as np\n",
    "import pandas as pd\n",
    "from numpy.linalg import inv\n",
    "import time\n",
    "from math import *\n",
    "from mpl_toolkits.mplot3d import Axes3D\n",
    "from cpd_R import *\n",
    "from cpd_registration import cpd_registration\n",
    "from cpd_plot import cpd_plot"
   ]
  },
  {
   "cell_type": "markdown",
   "metadata": {},
   "source": [
    "## Load dataset"
   ]
  },
  {
   "cell_type": "code",
   "execution_count": 2,
   "metadata": {
    "collapsed": false
   },
   "outputs": [],
   "source": [
    "dataPath=r'C:\\Users\\Yanbo Huang\\Documents\\Mydocument\\TUD courses\\Medical Visualization\\project local\\CPD2\\data\\cpd_data3D_face.mat'\n",
    "data=scipy.io.loadmat(dataPath)\n",
    "X=data['X']\n",
    "Y=data['Y']"
   ]
  },
  {
   "cell_type": "markdown",
   "metadata": {},
   "source": [
    "## Call image registration function\n",
    "**Note:** This program cannot automaticly know what type of relationship between two datasets.So you need to explicitly tell cpd_registration function the transformation type. "
   ]
  },
  {
   "cell_type": "code",
   "execution_count": 3,
   "metadata": {
    "collapsed": false
   },
   "outputs": [
    {
     "name": "stdout",
     "output_type": "stream",
     "text": [
      "The whole process costs 0.36199998855590820312 seconds\n"
     ]
    }
   ],
   "source": [
    "now=time.time()\n",
    "T=cpd_registration('nonrigid',X,Y,0.0)\n",
    "print \"The whole process costs %.20f seconds\"%(time.time()-now)"
   ]
  },
  {
   "cell_type": "markdown",
   "metadata": {},
   "source": [
    "## Plot figure before and after registration"
   ]
  },
  {
   "cell_type": "code",
   "execution_count": 4,
   "metadata": {
    "collapsed": false
   },
   "outputs": [],
   "source": [
    "cpd_plot(X,Y,T)"
   ]
  },
  {
   "cell_type": "code",
   "execution_count": null,
   "metadata": {
    "collapsed": true
   },
   "outputs": [],
   "source": []
  },
  {
   "cell_type": "code",
   "execution_count": null,
   "metadata": {
    "collapsed": true
   },
   "outputs": [],
   "source": []
  }
 ],
 "metadata": {
  "kernelspec": {
   "display_name": "Python 2",
   "language": "python",
   "name": "python2"
  },
  "language_info": {
   "codemirror_mode": {
    "name": "ipython",
    "version": 2
   },
   "file_extension": ".py",
   "mimetype": "text/x-python",
   "name": "python",
   "nbconvert_exporter": "python",
   "pygments_lexer": "ipython2",
   "version": "2.7.11"
  }
 },
 "nbformat": 4,
 "nbformat_minor": 0
}
